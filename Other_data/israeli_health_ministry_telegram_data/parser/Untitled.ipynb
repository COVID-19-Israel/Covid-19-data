{
 "cells": [
  {
   "cell_type": "code",
   "execution_count": 1,
   "metadata": {},
   "outputs": [],
   "source": [
    "import parsers as p"
   ]
  },
  {
   "cell_type": "code",
   "execution_count": 2,
   "metadata": {},
   "outputs": [],
   "source": [
    "filepath= r\"C:\\Scripts\\corona_pdf_parser\\cities_4.4.pdf\""
   ]
  },
  {
   "cell_type": "code",
   "execution_count": 3,
   "metadata": {},
   "outputs": [],
   "source": [
    "f =  p.FileParser(path=filepath)"
   ]
  },
  {
   "cell_type": "code",
   "execution_count": 4,
   "metadata": {},
   "outputs": [
    {
     "name": "stdout",
     "output_type": "stream",
     "text": [
      "[[['City_Name', 'Population', 'Infected'], ['Jerusalem', '914559', '1302'], ['Benny Barak', '195298', '1214'], ['Tel Aviv - Yafo', '450192', '359'], ['Ashkelon', '139032', '191'], ['Petach Tikva', '242478', '159'], ['Rishon LeZion', '241010', '139'], ['Beit Shemesh', '120812', '137'], ['Netanya', '213971', '137'], [\"El'ad\", '46760', '133'], ['Ashdod', '225073', '129'], ['Beer Sheva', '196755', '121'], ['Ramat Gan', '143370', '116'], [\"Modi'in Illit\", '73808', '115'], ['Holon', '185741', '110'], ['Haifa', '272584', '105'], ['Bat Yam', '130523', '103'], ['Maccabim', '87108', '101'], ['Tiberias', '44353', '94'], ['Beitar Illit', '59240', '88'], ['Or Yehuda', '34843', '84'], ['Migdal HaEmek', '26058', '84'], ['Raanana', '73979', '75'], ['Herzliya', '90900', '74'], ['Rehovot', '137178', '68'], ['Efrat', '10676', '61'], ['Yehud-Monosson', '29104', '61'], ['Kfar Saba', '97412', '56'], ['Afula', '50886', '49'], ['Lod', '75038', '46'], ['Zefat', '35671', '43'], ['Kfar Habad', '6724', '41'], ['Kiryat Ono', '37112', '41'], ['Ramla', '75246', '40'], ['Kiryat Yearim', '5713', '37'], [\"Kokhav Ya'akov\", '8602', '36'], ['Kiryat Malakhi', '23691', '36'], ['Ramat HaSharon', '44896', '33'], ['Hod HaSharon', '59171', '29'], [\"Ma'ale Adumim\", '37469', '29'], ['Givatim', '55123', '28'], ['Shoham', '20041', '28'], ['Rechasim', '11841', '27'], ['Givat Shumuel', '24538', '26'], ['Nahariya', '58750', '26'], ['Kiryat Gat', '55400', '26'], ['Yavne', '45555', '25'], ['Ganei Tiqva', '18930', '24'], ['Hadera', '94104', '24'], ['Netivot', '36511', '24'], ['Rosh Haayin', '53965', '24'], ['Sderot', '25891', '24'], ['Even Yehuda', '13263', '23'], ['Gan Yavne', '22410', '22'], ['Dimona', '35377', '22'], [\"Zikhron Ya'akov\", '22341', '22'], [\"Nof Ha'Galilee\", '43811', '22'], ['Ofakim', '30185', '21'], ['Azur', '11819', '21'], ['Carmiel', '46596', '21'], ['Gedera', '24633', '20'], ['Kiryat Yam', '39556', '20'], ['Umm al-Fahm', '55324', '16'], [\"Be'er Ya'akov\", '24216', '16'], ['Kiryat Ata', '57108', '16'], [\"Giv'at Ze'ev\", '18510', '15'], ['Tamra', '33792', '14'], ['Kfar Yona', '21301', '14'], ['Daburiyya', '10414', '13'], ['Tirat Carmel', '22243', '13'], ['Acre', '50872', '13'], ['Tel Mond', '12593', '13'], ['Value', '26763', '12'], ['Yokneam', '22711', '11'], ['Angola', '20831', '11'], ['Kiryat Arba', '7364', '11'], ['Eilat', '56568', '10'], ['Jasser a-Zarqa', '14732', '10'], ['Mevaseret Zion', '23093', '10'], ['Omer', '8016', '10'], ['Shibli–Umm al-Ghanam', '6367', '10'], [\"Ma'alot-Tarshiha\", '22261', '9'], ['Ness Ziona', '45714', '9'], ['Katzrin', '7373', '9'], ['Kiryat Shmona', '22152', '9'], ['Nature', '43144', '8'], [\"Kokhav Ya'ir\", '9143', '8'], ['Kiryat Bialik', '39262', '8'], ['Jat', '11910', '7'], ['Kuseife', '16957', '7'], ['Maghar', '22364', '7'], ['Mazkeret Batya', '14949', '7'], ['Nazareth', '78252', '7'], ['Deir Hanna', '10567', '6'], ['Lehavim', '6178', '6'], ['Sakhnin', '32089', '6'], ['Pardes Hanna-Karkur', '40622', '6'], ['Kiryat Motzkin', '42870', '6'], ['Kiryat Ekron', '10600', '6'], ['Karnei Shomron', '7906', '6'], ['Alfei Menashe', '7771', '5'], ['Baqa al-Gharbiya', '29035', '5'], ['Bir al-Maksur', '9866', '5'], ['Nesher', '22032', '5'], ['Rahat', '64649', '5'], ['Shlomi', '6478', '5'], ['Iksal', '14655', '4'], ['Ariel', '18251', '4'], ['Bnei Aish', '6837', '4'], ['Geva Binyamin', '5299', '4'], ['Harish', '8737', '4'], ['Tzur Hadassah', '7856', '4'], ['Or Akiva', '18893', '3'], ['Beit Dagan', '6533', '3'], ['Tiraa', '26184', '3'], ['Yafa an-Naseriyye', '19056', '3'], [\"Ma'ale Iron\", '14861', '3'], ['Tzur Itzhak', '5954', '3'], ['Oranit', '8822', '2'], [\"Buq'ata\", '6586', '2'], ['Beit El', '5767', '2'], ['Binyamina-Givat Ada', '14383', '2'], ['Basmaa', '10532', '2'], [\"Basmat Tab'un\", '7833', '2'], ['Jedida-bestseller', '20524', '2'], ['Jules', '6147', '2'], ['Kfar Vradim', '5599', '2'], ['Kafr Kanna', '22449', '2'], ['Kafr Qara', '18820', '2'], ['Meiter', '9043', '2'], ['Atlit', '7442', '2'], [\"Kiryat Tiv'on\", '15831', '2'], ['Ramat Yishai', '7236', '2'], [\"Shefa-'Amr\", '40666', '2'], ['Abu Ghosh', '7792', '1'], ['Abu Rubiya (tribe)', '8446', '1'], ['Boina-Nujidat', '9974', '1'], [\"Ba'ana\", '8355', '1'], ['Bat Hefer', '5124', '1'], ['Jaljulia', '10011', '1'], ['Deir al-Assad', '12435', '1'], ['Zemer', '6926', '1'], ['Hurfeish', '6288', '1'], ['Tuba-Zangaria', '6648', '1'], ['Yeruham', '10126', '1'], ['Kafr Yasif', '10577', '1'], ['Kafr Qasim', '23517', '1'], ['Majdal Shams', '11089', '1'], ['Masudin al-Azazma', '16644', '1'], ['Nahaf', '13167', '1'], ['Eilabun', '5677', '1'], ['Isfiya', '12141', '1'], ['Arraba, Galilee', '25876', '1'], ['Pardesiya', '6027', '1'], ['Clansua', '22740', '1'], ['Tel as-Sabi', '19850', '1']]]\n"
     ]
    },
    {
     "ename": "FileNotFoundError",
     "evalue": "[Errno 2] No such file or directory: '.json'",
     "output_type": "error",
     "traceback": [
      "\u001b[1;31m---------------------------------------------------------------------------\u001b[0m",
      "\u001b[1;31mFileNotFoundError\u001b[0m                         Traceback (most recent call last)",
      "\u001b[1;32m<ipython-input-4-cad03c73d8e1>\u001b[0m in \u001b[0;36m<module>\u001b[1;34m\u001b[0m\n\u001b[1;32m----> 1\u001b[1;33m \u001b[0mf\u001b[0m\u001b[1;33m.\u001b[0m\u001b[0mrun\u001b[0m\u001b[1;33m(\u001b[0m\u001b[1;33m)\u001b[0m\u001b[1;33m\u001b[0m\u001b[1;33m\u001b[0m\u001b[0m\n\u001b[0m",
      "\u001b[1;32mC:\\Scripts\\Covid-19-data\\Other_data\\israeli_health_ministry_telegram_data\\parser\\parsers.py\u001b[0m in \u001b[0;36mrun\u001b[1;34m(self)\u001b[0m\n\u001b[0;32m     34\u001b[0m \u001b[1;33m\u001b[0m\u001b[0m\n\u001b[0;32m     35\u001b[0m         \u001b[0mparser\u001b[0m\u001b[1;33m.\u001b[0m\u001b[0mparse_file\u001b[0m\u001b[1;33m(\u001b[0m\u001b[1;33m)\u001b[0m\u001b[1;33m\u001b[0m\u001b[1;33m\u001b[0m\u001b[0m\n\u001b[1;32m---> 36\u001b[1;33m         \u001b[0mparser\u001b[0m\u001b[1;33m.\u001b[0m\u001b[0mexport_to_csv\u001b[0m\u001b[1;33m(\u001b[0m\u001b[1;33m)\u001b[0m\u001b[1;33m\u001b[0m\u001b[1;33m\u001b[0m\u001b[0m\n\u001b[0m\u001b[0;32m     37\u001b[0m \u001b[1;33m\u001b[0m\u001b[0m\n\u001b[0;32m     38\u001b[0m     \u001b[1;32mdef\u001b[0m \u001b[0mparse_file\u001b[0m\u001b[1;33m(\u001b[0m\u001b[0mself\u001b[0m\u001b[1;33m)\u001b[0m\u001b[1;33m:\u001b[0m\u001b[1;33m\u001b[0m\u001b[1;33m\u001b[0m\u001b[0m\n",
      "\u001b[1;32mC:\\Scripts\\Covid-19-data\\Other_data\\israeli_health_ministry_telegram_data\\parser\\parsers.py\u001b[0m in \u001b[0;36mexport_to_csv\u001b[1;34m(self)\u001b[0m\n\u001b[0;32m     61\u001b[0m         \u001b[1;32mfor\u001b[0m \u001b[0mtable_index\u001b[0m\u001b[1;33m,\u001b[0m \u001b[0mtable\u001b[0m \u001b[1;32min\u001b[0m \u001b[0menumerate\u001b[0m\u001b[1;33m(\u001b[0m\u001b[0mself\u001b[0m\u001b[1;33m.\u001b[0m\u001b[0m_data\u001b[0m\u001b[1;33m,\u001b[0m \u001b[0mstart\u001b[0m\u001b[1;33m=\u001b[0m\u001b[1;36m1\u001b[0m\u001b[1;33m)\u001b[0m\u001b[1;33m:\u001b[0m\u001b[1;33m\u001b[0m\u001b[1;33m\u001b[0m\u001b[0m\n\u001b[0;32m     62\u001b[0m             \u001b[0mtable_df\u001b[0m \u001b[1;33m=\u001b[0m \u001b[0mpd\u001b[0m\u001b[1;33m.\u001b[0m\u001b[0mDataFrame\u001b[0m\u001b[1;33m(\u001b[0m\u001b[0mtable\u001b[0m\u001b[1;33m)\u001b[0m\u001b[1;33m\u001b[0m\u001b[1;33m\u001b[0m\u001b[0m\n\u001b[1;32m---> 63\u001b[1;33m             \u001b[0mtable_df\u001b[0m\u001b[1;33m[\u001b[0m\u001b[1;34m\"Date\"\u001b[0m\u001b[1;33m]\u001b[0m \u001b[1;33m=\u001b[0m \u001b[0mFileParser\u001b[0m\u001b[1;33m.\u001b[0m\u001b[0m_get_file_date\u001b[0m\u001b[1;33m(\u001b[0m\u001b[0mos\u001b[0m\u001b[1;33m.\u001b[0m\u001b[0mpath\u001b[0m\u001b[1;33m.\u001b[0m\u001b[0mbasename\u001b[0m\u001b[1;33m(\u001b[0m\u001b[0mself\u001b[0m\u001b[1;33m.\u001b[0m\u001b[0mpath\u001b[0m\u001b[1;33m)\u001b[0m\u001b[1;33m)\u001b[0m\u001b[1;33m\u001b[0m\u001b[1;33m\u001b[0m\u001b[0m\n\u001b[0m\u001b[0;32m     64\u001b[0m             \u001b[0moutput_file_name\u001b[0m \u001b[1;33m=\u001b[0m \u001b[0mself\u001b[0m\u001b[1;33m.\u001b[0m\u001b[0m_create_output_file_path\u001b[0m\u001b[1;33m(\u001b[0m\u001b[0mtable_index\u001b[0m\u001b[1;33m)\u001b[0m\u001b[1;33m\u001b[0m\u001b[1;33m\u001b[0m\u001b[0m\n\u001b[0;32m     65\u001b[0m             \u001b[0mtable_df\u001b[0m\u001b[1;33m.\u001b[0m\u001b[0mto_csv\u001b[0m\u001b[1;33m(\u001b[0m\u001b[0moutput_file_name\u001b[0m\u001b[1;33m,\u001b[0m \u001b[0mindex\u001b[0m\u001b[1;33m=\u001b[0m\u001b[1;32mFalse\u001b[0m\u001b[1;33m,\u001b[0m \u001b[0mencoding\u001b[0m\u001b[1;33m=\u001b[0m\u001b[1;34m'utf-8'\u001b[0m\u001b[1;33m)\u001b[0m\u001b[1;33m\u001b[0m\u001b[1;33m\u001b[0m\u001b[0m\n",
      "\u001b[1;32mC:\\Scripts\\Covid-19-data\\Other_data\\israeli_health_ministry_telegram_data\\parser\\parsers.py\u001b[0m in \u001b[0;36m_get_file_date\u001b[1;34m(filename)\u001b[0m\n\u001b[0;32m     67\u001b[0m     \u001b[1;33m@\u001b[0m\u001b[0mstaticmethod\u001b[0m\u001b[1;33m\u001b[0m\u001b[1;33m\u001b[0m\u001b[0m\n\u001b[0;32m     68\u001b[0m     \u001b[1;32mdef\u001b[0m \u001b[0m_get_file_date\u001b[0m\u001b[1;33m(\u001b[0m\u001b[0mfilename\u001b[0m\u001b[1;33m)\u001b[0m\u001b[1;33m:\u001b[0m\u001b[1;33m\u001b[0m\u001b[1;33m\u001b[0m\u001b[0m\n\u001b[1;32m---> 69\u001b[1;33m         \u001b[1;32mwith\u001b[0m \u001b[0mopen\u001b[0m\u001b[1;33m(\u001b[0m\u001b[0mDOWNLOADED_FILES_DICT_PATH\u001b[0m\u001b[1;33m,\u001b[0m \u001b[1;34m\"r\"\u001b[0m\u001b[1;33m)\u001b[0m \u001b[1;32mas\u001b[0m \u001b[0mf\u001b[0m\u001b[1;33m:\u001b[0m\u001b[1;33m\u001b[0m\u001b[1;33m\u001b[0m\u001b[0m\n\u001b[0m\u001b[0;32m     70\u001b[0m             \u001b[0mdownloaded_files_dict\u001b[0m \u001b[1;33m=\u001b[0m \u001b[0mjson\u001b[0m\u001b[1;33m.\u001b[0m\u001b[0mload\u001b[0m\u001b[1;33m(\u001b[0m\u001b[0mf\u001b[0m\u001b[1;33m)\u001b[0m\u001b[1;33m\u001b[0m\u001b[1;33m\u001b[0m\u001b[0m\n\u001b[0;32m     71\u001b[0m         \u001b[1;32mreturn\u001b[0m \u001b[0mdownloaded_files_dict\u001b[0m\u001b[1;33m[\u001b[0m\u001b[0mfilename\u001b[0m\u001b[1;33m]\u001b[0m\u001b[1;33m\u001b[0m\u001b[1;33m\u001b[0m\u001b[0m\n",
      "\u001b[1;31mFileNotFoundError\u001b[0m: [Errno 2] No such file or directory: '.json'"
     ]
    }
   ],
   "source": [
    "f.run()"
   ]
  },
  {
   "cell_type": "code",
   "execution_count": 6,
   "metadata": {},
   "outputs": [
    {
     "data": {
      "text/plain": [
       "[]"
      ]
     },
     "execution_count": 6,
     "metadata": {},
     "output_type": "execute_result"
    }
   ],
   "source": [
    "f._data"
   ]
  },
  {
   "cell_type": "code",
   "execution_count": null,
   "metadata": {},
   "outputs": [],
   "source": []
  }
 ],
 "metadata": {
  "kernelspec": {
   "display_name": "Python 3",
   "language": "python",
   "name": "python3"
  },
  "language_info": {
   "codemirror_mode": {
    "name": "ipython",
    "version": 3
   },
   "file_extension": ".py",
   "mimetype": "text/x-python",
   "name": "python",
   "nbconvert_exporter": "python",
   "pygments_lexer": "ipython3",
   "version": "3.7.6"
  }
 },
 "nbformat": 4,
 "nbformat_minor": 2
}
