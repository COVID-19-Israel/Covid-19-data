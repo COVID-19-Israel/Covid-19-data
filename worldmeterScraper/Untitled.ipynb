{
 "cells": [
  {
   "cell_type": "code",
   "execution_count": 22,
   "metadata": {},
   "outputs": [],
   "source": [
    "import requests\n",
    "from bs4 import BeautifulSoup\n",
    "import time\n",
    "import datetime\n"
   ]
  },
  {
   "cell_type": "code",
   "execution_count": 17,
   "metadata": {},
   "outputs": [],
   "source": [
    "url ='https://www.worldometers.info/coronavirus//'\n",
    "headers= {'User-Agent': 'Mozilla/5.0'}"
   ]
  },
  {
   "cell_type": "code",
   "execution_count": 18,
   "metadata": {},
   "outputs": [
    {
     "name": "stdout",
     "output_type": "stream",
     "text": [
      "200\n"
     ]
    }
   ],
   "source": [
    "response = requests.get(url)\n",
    "print(response.status_code)"
   ]
  },
  {
   "cell_type": "code",
   "execution_count": 19,
   "metadata": {},
   "outputs": [],
   "source": [
    "soup = BeautifulSoup(response.content, 'html.parser')"
   ]
  },
  {
   "cell_type": "code",
   "execution_count": 55,
   "metadata": {},
   "outputs": [],
   "source": [
    "country_table = soup.find(id='main_table_countries_today')"
   ]
  },
  {
   "cell_type": "code",
   "execution_count": 32,
   "metadata": {},
   "outputs": [],
   "source": [
    "date = datetime.datetime.now()\n",
    "date = date.strftime(\"%d\"+\"_\"+\"%m\"+\"_\"+\"%y\")\n",
    "filename = f\"worldmeter_table_{date}.csv\""
   ]
  },
  {
   "cell_type": "code",
   "execution_count": 54,
   "metadata": {},
   "outputs": [],
   "source": [
    "with open (filename,'w') as r:\n",
    "    for row in country_table.find_all('thead'):\n",
    "        for cell in row.find_all('th'):\n",
    "            if cell.text != 'Country,Other':\n",
    "                r.write('\"'+cell.text+'\"'+',')\n",
    "            else:\n",
    "                r.write('Country,')\n",
    "        r.write('\\n')\n",
    "    for row in country_table.find_all('tr'):\n",
    "        for cell in row.find_all('td'):\n",
    "            try:\n",
    "                r.write('\"'+cell.text+'\"'+',')\n",
    "            except UnicodeEncodeError as e:\n",
    "                r.write('???,')\n",
    "        r.write(\"\\n\")"
   ]
  },
  {
   "cell_type": "code",
   "execution_count": null,
   "metadata": {},
   "outputs": [],
   "source": []
  }
 ],
 "metadata": {
  "kernelspec": {
   "display_name": "Python 3",
   "language": "python",
   "name": "python3"
  },
  "language_info": {
   "codemirror_mode": {
    "name": "ipython",
    "version": 3
   },
   "file_extension": ".py",
   "mimetype": "text/x-python",
   "name": "python",
   "nbconvert_exporter": "python",
   "pygments_lexer": "ipython3",
   "version": "3.7.4"
  }
 },
 "nbformat": 4,
 "nbformat_minor": 2
}
